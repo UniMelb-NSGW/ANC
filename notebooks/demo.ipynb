{
 "cells": [
  {
   "cell_type": "markdown",
   "metadata": {},
   "source": [
    "# Adaptive noise cancellation demo\n",
    "\n",
    " This notebook demonstrates adaptive noise cancellation (ANC) techniques for removing power line interference from signals.\n",
    " \n",
    " The demo shows how to:\n",
    " - Generate synthetic data with power line noise\n",
    " - Apply adaptive RLS filtering to cancel the noise\n",
    " - Evaluate the filtering performance\n",
    " \n",
    " The code implements the algorithm described in [\"Adaptive cancellation of mains power interference in continuous gravitational wave searches with a hidden Markov model\"](https://journals.aps.org/prd/abstract/10.1103/PhysRevD.110.122004)\n",
    "\n",
    " ---\n",
    " \n"
   ]
  },
  {
   "cell_type": "markdown",
   "metadata": {},
   "source": [
    "## 0. Setup "
   ]
  },
  {
   "cell_type": "code",
   "execution_count": 1,
   "metadata": {},
   "outputs": [],
   "source": [
    "# %%\n",
    "%load_ext autoreload\n",
    "%autoreload 2"
   ]
  },
  {
   "cell_type": "code",
   "execution_count": 2,
   "metadata": {},
   "outputs": [],
   "source": [
    "import sys \n",
    "sys.path.append('../python/')\n"
   ]
  },
  {
   "cell_type": "markdown",
   "metadata": {},
   "source": [
    "## 1. Synthetic data \n",
    "\n",
    "\n"
   ]
  },
  {
   "cell_type": "code",
   "execution_count": 7,
   "metadata": {},
   "outputs": [
    {
     "name": "stdout",
     "output_type": "stream",
     "text": [
      "Generating simulated data\n"
     ]
    }
   ],
   "source": [
    "import numpy as np \n",
    "from ANC.generate_synthetic_data import simulate_data\n",
    "from ANC.hmm_viterbi import viterbi_for_ANC\n",
    "from ANC.adaptive_filters import arls_n\n",
    "\n",
    "\n",
    "# Generate simulated data\n",
    "# The signal measured in the strain channel is x(t) = h(t) + c(t) + n(t)\n",
    "# where h(t) is the GW signal, c(t) is the non-Gaussian interference, and n(t) is Gaussian noise.\n",
    "# Separately, the reference signal is r(t) = A_ac * cos(2πf0t + θ(t)) + n_r(t)\n",
    "# where A_ac is the amplitude of the reference signal, f0 is the central frequency, and θ(t) is the phase noise.\n",
    "# See the paper for more details.\n",
    "\n",
    "print(\"Generating simulated data\")\n",
    "\n",
    "## Sampling parameters \n",
    "W = 1000  # Sampling frequency\n",
    "N = 2**14 # Number of samples per block\n",
    "T = N/W   # Time within one block\n",
    "Nb = 50  # Number of frequency blocks for simulated GW signal\n",
    "\n",
    "\n",
    "## GW parameters \n",
    "sigma_f = 1e-2  # Standard deviation of GW frequency\n",
    "fq      = np.cumsum(np.concatenate(([59.5], sigma_f * np.sqrt(T) * np.random.randn(Nb-1)))) #array of random GW frequencies, see Equation 20 and 21 in paper. Note that the frequency updates are happing at the block level rather than every sample point.\n",
    "h0      = 0.03   # GW signal amplitude\n",
    "\n",
    "\n",
    "## Clutter parameters \n",
    "\n",
    "\n",
    "## Gaussian noise parameters \n",
    "sigma_n     = 1.0    # Standard deviation of Gaussian noise (strain channel)\n",
    "\n",
    "\n",
    "## Reference signal parameters \n",
    "\n",
    "\n",
    "sigma_r     = 2.0    # Standard deviation of reference signal measurement noise\n",
    "A_ac        = 1.0    # Amplitude of reference signal\n",
    "A_r         = 10.0   # Amplitude factor for reference\n",
    "gamma_a     = 0.1    # Phase fluctuation parameter (related to 1/P in paper)\n",
    "Δfac       = 1.0    # Amplitude of phase modulation (Δfac in paper)\n",
    "\n",
    "\n",
    "\n",
    "f_ac          = 60.0 # Hz, central frequency \n",
    "\n",
    "\n",
    "\n",
    "\n",
    "\n",
    "\n",
    "\n",
    "\n",
    "\n",
    "sigma_theta = 0.01   # Standard deviation of phase noise (σΘ in paper)\n",
    "\n",
    "x, r, injection, time = simulate_data(\n",
    "    f_ac=f_ac,\n",
    "    fq=fq, \n",
    "    h0=h0,\n",
    "    sigma_n=sigma_n,\n",
    "    W=W,\n",
    "    N=N,\n",
    "    sigma_r=sigma_r,\n",
    "    A_ac=A_ac,\n",
    "    A_r=A_r,\n",
    "    gamma_a=gamma_a,\n",
    "    Δfac=Δfac,\n",
    "    sigma_theta=sigma_theta\n",
    ")\n",
    "\n",
    "\n",
    "\n",
    "\n",
    "\n",
    "\n",
    "# # Apply RLS filter\n",
    "# print(\"Applying RLS filter\")\n",
    "# lambda_val = 1\n",
    "# c_RLS, _, _,_= arls_n(s, r, 36, lambda_val) # cancelled, adap, fit, P \n",
    "\n",
    "\n",
    "# # Evaluate using Viterbi\n",
    "# print(\"Evaluating using Viterbi\")\n",
    "# score, _,_ = viterbi_for_ANC(gamma, s, N, Nb, T, W) #score, fhat, y0 \n",
    "# score_RLS, _,_= viterbi_for_ANC(gamma, c_RLS, N, Nb, T, W)\n",
    "    \n",
    " "
   ]
  },
  {
   "cell_type": "code",
   "execution_count": 9,
   "metadata": {},
   "outputs": [
    {
     "data": {
      "text/plain": [
       "(55.0, 65.0)"
      ]
     },
     "execution_count": 9,
     "metadata": {},
     "output_type": "execute_result"
    },
    {
     "data": {
      "image/png": "[encoded data removed]",
      "text/plain": [
       "<Figure size 640x480 with 1 Axes>"
      ]
     },
     "metadata": {},
     "output_type": "display_data"
    }
   ],
   "source": [
    "import matplotlib.pyplot as plt \n",
    "dt = time[1]-time[0]\n",
    "fs = 1/dt\n",
    "s = x\n",
    "fft_result = np.fft.fft(s)\n",
    "N = len(s)\n",
    "freq = np.fft.fftfreq(N, d=dt)\n",
    "\n",
    "\n",
    "\n",
    "# Get the magnitude spectrum (absolute value)\n",
    "magnitude_spectrum = np.abs(fft_result)\n",
    "\n",
    "# If you want the power spectrum\n",
    "power_spectrum = np.abs(fft_result)**2\n",
    "\n",
    "# Note: The FFT is symmetric for real signals, so often you only want the positive frequencies\n",
    "# You can get these by:\n",
    "positive_freq = freq[:N//2]\n",
    "positive_magnitude = magnitude_spectrum[:N//2]\n",
    "\n",
    "\n",
    "\n",
    "plt.plot(positive_freq, positive_magnitude)\n",
    "plt.xlabel('Frequency (Hz)')\n",
    "plt.ylabel('Magnitude')\n",
    "plt.xlim(55,65)"
   ]
  },
  {
   "cell_type": "code",
   "execution_count": 24,
   "metadata": {},
   "outputs": [
    {
     "data": {
      "text/plain": [
       "50"
      ]
     },
     "execution_count": 24,
     "metadata": {},
     "output_type": "execute_result"
    }
   ],
   "source": []
  }
 ],
 "metadata": {
  "kernelspec": {
   "display_name": "ANC",
   "language": "python",
   "name": "python3"
  },
  "language_info": {
   "codemirror_mode": {
    "name": "ipython",
    "version": 3
   },
   "file_extension": ".py",
   "mimetype": "text/x-python",
   "name": "python",
   "nbconvert_exporter": "python",
   "pygments_lexer": "ipython3",
   "version": "3.10.16"
  }
 },
 "nbformat": 4,
 "nbformat_minor": 2
}
